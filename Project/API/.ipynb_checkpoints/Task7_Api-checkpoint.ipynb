{
 "cells": [
  {
   "cell_type": "code",
   "execution_count": 1,
   "metadata": {
    "colab": {
     "base_uri": "https://localhost:8080/"
    },
    "executionInfo": {
     "elapsed": 11329,
     "status": "ok",
     "timestamp": 1618122674707,
     "user": {
      "displayName": "AKANKSHA NAGAR",
      "photoUrl": "",
      "userId": "14696667585464651672"
     },
     "user_tz": -330
    },
    "id": "b5IUKvrbbMej",
    "outputId": "f6e9daed-e1a1-4fd8-b11e-7e5ac694c319"
   },
   "outputs": [
    {
     "name": "stdout",
     "output_type": "stream",
     "text": [
      "Defaulting to user installation because normal site-packages is not writeable\n",
      "Requirement already satisfied: pandasql in c:\\users\\ksaga\\appdata\\roaming\\python\\python39\\site-packages (0.7.3)\n",
      "Requirement already satisfied: sqlalchemy in c:\\programdata\\anaconda3\\lib\\site-packages (from pandasql) (1.4.32)\n",
      "Requirement already satisfied: pandas in c:\\programdata\\anaconda3\\lib\\site-packages (from pandasql) (1.4.2)\n",
      "Requirement already satisfied: numpy in c:\\programdata\\anaconda3\\lib\\site-packages (from pandasql) (1.21.5)\n",
      "Requirement already satisfied: pytz>=2020.1 in c:\\programdata\\anaconda3\\lib\\site-packages (from pandas->pandasql) (2021.3)\n",
      "Requirement already satisfied: python-dateutil>=2.8.1 in c:\\programdata\\anaconda3\\lib\\site-packages (from pandas->pandasql) (2.8.2)\n",
      "Requirement already satisfied: six>=1.5 in c:\\programdata\\anaconda3\\lib\\site-packages (from python-dateutil>=2.8.1->pandas->pandasql) (1.16.0)\n",
      "Requirement already satisfied: greenlet!=0.4.17 in c:\\programdata\\anaconda3\\lib\\site-packages (from sqlalchemy->pandasql) (1.1.1)\n",
      "Defaulting to user installation because normal site-packages is not writeable\n",
      "Requirement already satisfied: colabcode in c:\\users\\ksaga\\appdata\\roaming\\python\\python39\\site-packages (0.3.0)\n",
      "Requirement already satisfied: fastapi in c:\\users\\ksaga\\appdata\\roaming\\python\\python39\\site-packages (0.89.1)\n",
      "Requirement already satisfied: jinja2 in c:\\users\\ksaga\\appdata\\roaming\\python\\python39\\site-packages (3.0.3)\n",
      "Requirement already satisfied: aiofiles in c:\\users\\ksaga\\appdata\\roaming\\python\\python39\\site-packages (22.1.0)\n",
      "Requirement already satisfied: jupyterlab==3.0.7 in c:\\users\\ksaga\\appdata\\roaming\\python\\python39\\site-packages (from colabcode) (3.0.7)\n",
      "Requirement already satisfied: nest-asyncio==1.4.3 in c:\\users\\ksaga\\appdata\\roaming\\python\\python39\\site-packages (from colabcode) (1.4.3)\n",
      "Requirement already satisfied: uvicorn==0.13.1 in c:\\users\\ksaga\\appdata\\roaming\\python\\python39\\site-packages (from colabcode) (0.13.1)\n",
      "Requirement already satisfied: pyngrok>=5.0.0 in c:\\users\\ksaga\\appdata\\roaming\\python\\python39\\site-packages (from colabcode) (5.2.1)\n",
      "Requirement already satisfied: jupyterlab-server~=2.0 in c:\\programdata\\anaconda3\\lib\\site-packages (from jupyterlab==3.0.7->colabcode) (2.10.3)\n",
      "Requirement already satisfied: jupyter-core in c:\\programdata\\anaconda3\\lib\\site-packages (from jupyterlab==3.0.7->colabcode) (4.9.2)\n",
      "Requirement already satisfied: packaging in c:\\programdata\\anaconda3\\lib\\site-packages (from jupyterlab==3.0.7->colabcode) (21.3)\n",
      "Requirement already satisfied: tornado>=6.1.0 in c:\\programdata\\anaconda3\\lib\\site-packages (from jupyterlab==3.0.7->colabcode) (6.1)\n",
      "Requirement already satisfied: jupyter-server~=1.2 in c:\\programdata\\anaconda3\\lib\\site-packages (from jupyterlab==3.0.7->colabcode) (1.13.5)\n",
      "Requirement already satisfied: ipython in c:\\programdata\\anaconda3\\lib\\site-packages (from jupyterlab==3.0.7->colabcode) (8.2.0)\n",
      "Requirement already satisfied: nbclassic~=0.2 in c:\\programdata\\anaconda3\\lib\\site-packages (from jupyterlab==3.0.7->colabcode) (0.3.5)\n",
      "Requirement already satisfied: h11>=0.8 in c:\\users\\ksaga\\appdata\\roaming\\python\\python39\\site-packages (from uvicorn==0.13.1->colabcode) (0.14.0)\n",
      "Requirement already satisfied: click==7.* in c:\\users\\ksaga\\appdata\\roaming\\python\\python39\\site-packages (from uvicorn==0.13.1->colabcode) (7.1.2)\n",
      "Requirement already satisfied: pydantic!=1.7,!=1.7.1,!=1.7.2,!=1.7.3,!=1.8,!=1.8.1,<2.0.0,>=1.6.2 in c:\\users\\ksaga\\appdata\\roaming\\python\\python39\\site-packages (from fastapi) (1.10.2)\n",
      "Requirement already satisfied: starlette==0.22.0 in c:\\users\\ksaga\\appdata\\roaming\\python\\python39\\site-packages (from fastapi) (0.22.0)\n",
      "Requirement already satisfied: anyio<5,>=3.4.0 in c:\\programdata\\anaconda3\\lib\\site-packages (from starlette==0.22.0->fastapi) (3.5.0)\n",
      "Requirement already satisfied: typing-extensions>=3.10.0 in c:\\programdata\\anaconda3\\lib\\site-packages (from starlette==0.22.0->fastapi) (4.1.1)\n",
      "Requirement already satisfied: MarkupSafe>=2.0 in c:\\programdata\\anaconda3\\lib\\site-packages (from jinja2) (2.0.1)\n",
      "Requirement already satisfied: idna>=2.8 in c:\\programdata\\anaconda3\\lib\\site-packages (from anyio<5,>=3.4.0->starlette==0.22.0->fastapi) (3.3)\n",
      "Requirement already satisfied: sniffio>=1.1 in c:\\programdata\\anaconda3\\lib\\site-packages (from anyio<5,>=3.4.0->starlette==0.22.0->fastapi) (1.2.0)\n",
      "Requirement already satisfied: pywinpty<2 in c:\\users\\ksaga\\appdata\\roaming\\python\\python39\\site-packages (from jupyter-server~=1.2->jupyterlab==3.0.7->colabcode) (1.1.6)\n",
      "Requirement already satisfied: ipython-genutils in c:\\programdata\\anaconda3\\lib\\site-packages (from jupyter-server~=1.2->jupyterlab==3.0.7->colabcode) (0.2.0)\n",
      "Requirement already satisfied: pyzmq>=17 in c:\\programdata\\anaconda3\\lib\\site-packages (from jupyter-server~=1.2->jupyterlab==3.0.7->colabcode) (22.3.0)\n",
      "Requirement already satisfied: traitlets>=5 in c:\\programdata\\anaconda3\\lib\\site-packages (from jupyter-server~=1.2->jupyterlab==3.0.7->colabcode) (5.1.1)\n",
      "Requirement already satisfied: argon2-cffi in c:\\programdata\\anaconda3\\lib\\site-packages (from jupyter-server~=1.2->jupyterlab==3.0.7->colabcode) (21.3.0)\n",
      "Requirement already satisfied: nbformat in c:\\programdata\\anaconda3\\lib\\site-packages (from jupyter-server~=1.2->jupyterlab==3.0.7->colabcode) (5.3.0)\n",
      "Requirement already satisfied: nbconvert in c:\\programdata\\anaconda3\\lib\\site-packages (from jupyter-server~=1.2->jupyterlab==3.0.7->colabcode) (6.4.4)\n",
      "Requirement already satisfied: jupyter-client>=6.1.1 in c:\\programdata\\anaconda3\\lib\\site-packages (from jupyter-server~=1.2->jupyterlab==3.0.7->colabcode) (6.1.12)\n",
      "Requirement already satisfied: Send2Trash in c:\\programdata\\anaconda3\\lib\\site-packages (from jupyter-server~=1.2->jupyterlab==3.0.7->colabcode) (1.8.0)\n",
      "Requirement already satisfied: terminado>=0.8.3 in c:\\programdata\\anaconda3\\lib\\site-packages (from jupyter-server~=1.2->jupyterlab==3.0.7->colabcode) (0.13.1)\n",
      "Requirement already satisfied: websocket-client in c:\\programdata\\anaconda3\\lib\\site-packages (from jupyter-server~=1.2->jupyterlab==3.0.7->colabcode) (0.58.0)\n",
      "Requirement already satisfied: prometheus-client in c:\\programdata\\anaconda3\\lib\\site-packages (from jupyter-server~=1.2->jupyterlab==3.0.7->colabcode) (0.13.1)\n",
      "Requirement already satisfied: python-dateutil>=2.1 in c:\\programdata\\anaconda3\\lib\\site-packages (from jupyter-client>=6.1.1->jupyter-server~=1.2->jupyterlab==3.0.7->colabcode) (2.8.2)\n",
      "Requirement already satisfied: pywin32>=1.0 in c:\\users\\ksaga\\appdata\\roaming\\python\\python39\\site-packages (from jupyter-core->jupyterlab==3.0.7->colabcode) (305)\n",
      "Requirement already satisfied: jsonschema>=3.0.1 in c:\\programdata\\anaconda3\\lib\\site-packages (from jupyterlab-server~=2.0->jupyterlab==3.0.7->colabcode) (4.4.0)\n",
      "Requirement already satisfied: requests in c:\\programdata\\anaconda3\\lib\\site-packages (from jupyterlab-server~=2.0->jupyterlab==3.0.7->colabcode) (2.27.1)\n",
      "Requirement already satisfied: babel in c:\\programdata\\anaconda3\\lib\\site-packages (from jupyterlab-server~=2.0->jupyterlab==3.0.7->colabcode) (2.9.1)\n",
      "Requirement already satisfied: entrypoints>=0.2.2 in c:\\programdata\\anaconda3\\lib\\site-packages (from jupyterlab-server~=2.0->jupyterlab==3.0.7->colabcode) (0.4)\n",
      "Requirement already satisfied: json5 in c:\\programdata\\anaconda3\\lib\\site-packages (from jupyterlab-server~=2.0->jupyterlab==3.0.7->colabcode) (0.9.6)\n",
      "Requirement already satisfied: pyrsistent!=0.17.0,!=0.17.1,!=0.17.2,>=0.14.0 in c:\\programdata\\anaconda3\\lib\\site-packages (from jsonschema>=3.0.1->jupyterlab-server~=2.0->jupyterlab==3.0.7->colabcode) (0.18.0)\n",
      "Requirement already satisfied: attrs>=17.4.0 in c:\\programdata\\anaconda3\\lib\\site-packages (from jsonschema>=3.0.1->jupyterlab-server~=2.0->jupyterlab==3.0.7->colabcode) (21.4.0)\n",
      "Requirement already satisfied: notebook<7 in c:\\users\\ksaga\\appdata\\roaming\\python\\python39\\site-packages (from nbclassic~=0.2->jupyterlab==3.0.7->colabcode) (6.4.5)\n",
      "Requirement already satisfied: ipykernel in c:\\programdata\\anaconda3\\lib\\site-packages (from notebook<7->nbclassic~=0.2->jupyterlab==3.0.7->colabcode) (6.9.1)\n",
      "Requirement already satisfied: PyYAML in c:\\programdata\\anaconda3\\lib\\site-packages (from pyngrok>=5.0.0->colabcode) (6.0)\n",
      "Requirement already satisfied: six>=1.5 in c:\\programdata\\anaconda3\\lib\\site-packages (from python-dateutil>=2.1->jupyter-client>=6.1.1->jupyter-server~=1.2->jupyterlab==3.0.7->colabcode) (1.16.0)\n",
      "Requirement already satisfied: argon2-cffi-bindings in c:\\programdata\\anaconda3\\lib\\site-packages (from argon2-cffi->jupyter-server~=1.2->jupyterlab==3.0.7->colabcode) (21.2.0)\n",
      "Requirement already satisfied: cffi>=1.0.1 in c:\\programdata\\anaconda3\\lib\\site-packages (from argon2-cffi-bindings->argon2-cffi->jupyter-server~=1.2->jupyterlab==3.0.7->colabcode) (1.15.0)\n",
      "Requirement already satisfied: pycparser in c:\\programdata\\anaconda3\\lib\\site-packages (from cffi>=1.0.1->argon2-cffi-bindings->argon2-cffi->jupyter-server~=1.2->jupyterlab==3.0.7->colabcode) (2.21)\n",
      "Requirement already satisfied: pytz>=2015.7 in c:\\programdata\\anaconda3\\lib\\site-packages (from babel->jupyterlab-server~=2.0->jupyterlab==3.0.7->colabcode) (2021.3)\n",
      "Requirement already satisfied: debugpy<2.0,>=1.0.0 in c:\\programdata\\anaconda3\\lib\\site-packages (from ipykernel->notebook<7->nbclassic~=0.2->jupyterlab==3.0.7->colabcode) (1.5.1)\n",
      "Requirement already satisfied: matplotlib-inline<0.2.0,>=0.1.0 in c:\\programdata\\anaconda3\\lib\\site-packages (from ipykernel->notebook<7->nbclassic~=0.2->jupyterlab==3.0.7->colabcode) (0.1.2)\n",
      "Requirement already satisfied: jedi>=0.16 in c:\\programdata\\anaconda3\\lib\\site-packages (from ipython->jupyterlab==3.0.7->colabcode) (0.18.1)\n",
      "Requirement already satisfied: colorama in c:\\programdata\\anaconda3\\lib\\site-packages (from ipython->jupyterlab==3.0.7->colabcode) (0.4.4)\n",
      "Requirement already satisfied: pickleshare in c:\\programdata\\anaconda3\\lib\\site-packages (from ipython->jupyterlab==3.0.7->colabcode) (0.7.5)\n",
      "Requirement already satisfied: backcall in c:\\programdata\\anaconda3\\lib\\site-packages (from ipython->jupyterlab==3.0.7->colabcode) (0.2.0)\n",
      "Requirement already satisfied: decorator in c:\\programdata\\anaconda3\\lib\\site-packages (from ipython->jupyterlab==3.0.7->colabcode) (5.1.1)\n",
      "Requirement already satisfied: prompt-toolkit!=3.0.0,!=3.0.1,<3.1.0,>=2.0.0 in c:\\programdata\\anaconda3\\lib\\site-packages (from ipython->jupyterlab==3.0.7->colabcode) (3.0.20)\n",
      "Requirement already satisfied: pygments>=2.4.0 in c:\\programdata\\anaconda3\\lib\\site-packages (from ipython->jupyterlab==3.0.7->colabcode) (2.11.2)\n",
      "Requirement already satisfied: stack-data in c:\\programdata\\anaconda3\\lib\\site-packages (from ipython->jupyterlab==3.0.7->colabcode) (0.2.0)\n",
      "Requirement already satisfied: setuptools>=18.5 in c:\\programdata\\anaconda3\\lib\\site-packages (from ipython->jupyterlab==3.0.7->colabcode) (61.2.0)\n",
      "Requirement already satisfied: parso<0.9.0,>=0.8.0 in c:\\programdata\\anaconda3\\lib\\site-packages (from jedi>=0.16->ipython->jupyterlab==3.0.7->colabcode) (0.8.3)\n",
      "Requirement already satisfied: wcwidth in c:\\programdata\\anaconda3\\lib\\site-packages (from prompt-toolkit!=3.0.0,!=3.0.1,<3.1.0,>=2.0.0->ipython->jupyterlab==3.0.7->colabcode) (0.2.5)\n",
      "Requirement already satisfied: pandocfilters>=1.4.1 in c:\\programdata\\anaconda3\\lib\\site-packages (from nbconvert->jupyter-server~=1.2->jupyterlab==3.0.7->colabcode) (1.5.0)\n",
      "Requirement already satisfied: bleach in c:\\programdata\\anaconda3\\lib\\site-packages (from nbconvert->jupyter-server~=1.2->jupyterlab==3.0.7->colabcode) (4.1.0)\n",
      "Requirement already satisfied: testpath in c:\\programdata\\anaconda3\\lib\\site-packages (from nbconvert->jupyter-server~=1.2->jupyterlab==3.0.7->colabcode) (0.5.0)\n",
      "Requirement already satisfied: defusedxml in c:\\programdata\\anaconda3\\lib\\site-packages (from nbconvert->jupyter-server~=1.2->jupyterlab==3.0.7->colabcode) (0.7.1)\n",
      "Requirement already satisfied: beautifulsoup4 in c:\\programdata\\anaconda3\\lib\\site-packages (from nbconvert->jupyter-server~=1.2->jupyterlab==3.0.7->colabcode) (4.11.1)\n",
      "Requirement already satisfied: nbclient<0.6.0,>=0.5.0 in c:\\programdata\\anaconda3\\lib\\site-packages (from nbconvert->jupyter-server~=1.2->jupyterlab==3.0.7->colabcode) (0.5.13)\n",
      "Requirement already satisfied: mistune<2,>=0.8.1 in c:\\programdata\\anaconda3\\lib\\site-packages (from nbconvert->jupyter-server~=1.2->jupyterlab==3.0.7->colabcode) (0.8.4)\n",
      "Requirement already satisfied: jupyterlab-pygments in c:\\programdata\\anaconda3\\lib\\site-packages (from nbconvert->jupyter-server~=1.2->jupyterlab==3.0.7->colabcode) (0.1.2)\n",
      "Requirement already satisfied: fastjsonschema in c:\\programdata\\anaconda3\\lib\\site-packages (from nbformat->jupyter-server~=1.2->jupyterlab==3.0.7->colabcode) (2.15.1)\n",
      "Requirement already satisfied: soupsieve>1.2 in c:\\programdata\\anaconda3\\lib\\site-packages (from beautifulsoup4->nbconvert->jupyter-server~=1.2->jupyterlab==3.0.7->colabcode) (2.3.1)\n",
      "Requirement already satisfied: webencodings in c:\\programdata\\anaconda3\\lib\\site-packages (from bleach->nbconvert->jupyter-server~=1.2->jupyterlab==3.0.7->colabcode) (0.5.1)\n",
      "Requirement already satisfied: pyparsing!=3.0.5,>=2.0.2 in c:\\programdata\\anaconda3\\lib\\site-packages (from packaging->jupyterlab==3.0.7->colabcode) (3.0.4)\n",
      "Requirement already satisfied: charset-normalizer~=2.0.0 in c:\\programdata\\anaconda3\\lib\\site-packages (from requests->jupyterlab-server~=2.0->jupyterlab==3.0.7->colabcode) (2.0.4)\n",
      "Requirement already satisfied: certifi>=2017.4.17 in c:\\programdata\\anaconda3\\lib\\site-packages (from requests->jupyterlab-server~=2.0->jupyterlab==3.0.7->colabcode) (2021.10.8)\n",
      "Requirement already satisfied: urllib3<1.27,>=1.21.1 in c:\\programdata\\anaconda3\\lib\\site-packages (from requests->jupyterlab-server~=2.0->jupyterlab==3.0.7->colabcode) (1.26.9)\n",
      "Requirement already satisfied: pure-eval in c:\\programdata\\anaconda3\\lib\\site-packages (from stack-data->ipython->jupyterlab==3.0.7->colabcode) (0.2.2)\n",
      "Requirement already satisfied: asttokens in c:\\programdata\\anaconda3\\lib\\site-packages (from stack-data->ipython->jupyterlab==3.0.7->colabcode) (2.0.5)\n",
      "Requirement already satisfied: executing in c:\\programdata\\anaconda3\\lib\\site-packages (from stack-data->ipython->jupyterlab==3.0.7->colabcode) (0.8.3)\n",
      "Note: you may need to restart the kernel to use updated packages.\n"
     ]
    },
    {
     "ename": "ModuleNotFoundError",
     "evalue": "No module named 'google.colab'",
     "output_type": "error",
     "traceback": [
      "\u001b[1;31m---------------------------------------------------------------------------\u001b[0m",
      "\u001b[1;31mModuleNotFoundError\u001b[0m                       Traceback (most recent call last)",
      "Input \u001b[1;32mIn [1]\u001b[0m, in \u001b[0;36m<cell line: 21>\u001b[1;34m()\u001b[0m\n\u001b[0;32m     19\u001b[0m \u001b[38;5;28;01mfrom\u001b[39;00m \u001b[38;5;21;01mcolabcode\u001b[39;00m \u001b[38;5;28;01mimport\u001b[39;00m ColabCode\n\u001b[0;32m     20\u001b[0m cc \u001b[38;5;241m=\u001b[39m ColabCode(port\u001b[38;5;241m=\u001b[39m\u001b[38;5;241m12000\u001b[39m, code\u001b[38;5;241m=\u001b[39m\u001b[38;5;28;01mFalse\u001b[39;00m)\n\u001b[1;32m---> 21\u001b[0m \u001b[38;5;28;01mfrom\u001b[39;00m \u001b[38;5;21;01mgoogle\u001b[39;00m\u001b[38;5;21;01m.\u001b[39;00m\u001b[38;5;21;01mcolab\u001b[39;00m \u001b[38;5;28;01mimport\u001b[39;00m files\n\u001b[0;32m     22\u001b[0m \u001b[38;5;28;01mfrom\u001b[39;00m \u001b[38;5;21;01mgoogle\u001b[39;00m\u001b[38;5;21;01m.\u001b[39;00m\u001b[38;5;21;01mcolab\u001b[39;00m \u001b[38;5;28;01mimport\u001b[39;00m drive\n\u001b[0;32m     23\u001b[0m drive\u001b[38;5;241m.\u001b[39mmount(\u001b[38;5;124m'\u001b[39m\u001b[38;5;124m/content/drive\u001b[39m\u001b[38;5;124m'\u001b[39m)\n",
      "\u001b[1;31mModuleNotFoundError\u001b[0m: No module named 'google.colab'"
     ]
    }
   ],
   "source": [
    "#%tensorflow_version 1.x\n",
    "!pip install -q gpt-2-simple\n",
    "!pip install pandasql\n",
    "import pandas as pd\n",
    "\n",
    "import numpy as np # linear algebra\n",
    "import pandasql as psql\n",
    "\n",
    "#FAST API\n",
    "# !pip install python-multipart\n",
    "%pip install colabcode fastapi jinja2 aiofiles\n",
    "from fastapi import FastAPI, Request, Form\n",
    "from fastapi.responses import HTMLResponse\n",
    "from fastapi.staticfiles import StaticFiles\n",
    "from fastapi.templating import Jinja2Templates\n",
    "\n",
    "\n",
    "#COLABCODE IMP\n",
    "from colabcode import ColabCode\n",
    "cc = ColabCode(port=12000, code=False)\n",
    "from google.colab import files\n",
    "from google.colab import drive\n",
    "drive.mount('/content/drive')\n",
    "\n",
    "\n",
    "from typing import Optional\n",
    "\n",
    "from fastapi import FastAPI\n",
    "from pydantic import BaseModel\n",
    "\n",
    "import json\n",
    "\n",
    "import sys\n",
    "sys.path.insert(0,'/content/drive/MyDrive/JobDescriptionPrediction/Project/utils')\n",
    "\n",
    "import task2_insightsusingsql\n",
    "from task2_insightsusingsql import *\n",
    "import task8_modeloutputgenerator\n",
    "from task8_modeloutputgenerator import *\n",
    "import task9_evaluatingmodel\n",
    "from task9_evaluatingmodel import *\n",
    "from Task1_indeedJobScraping import fetch_jobs\n"
   ]
  },
  {
   "cell_type": "code",
   "execution_count": null,
   "metadata": {
    "colab": {
     "base_uri": "https://localhost:8080/"
    },
    "executionInfo": {
     "elapsed": 67714,
     "status": "ok",
     "timestamp": 1618118664876,
     "user": {
      "displayName": "AKANKSHA NAGAR",
      "photoUrl": "",
      "userId": "14696667585464651672"
     },
     "user_tz": -330
    },
    "id": "bOyMB6Ei50Zg",
    "outputId": "35c84110-1b75-4e64-c980-606a97f85838"
   },
   "outputs": [],
   "source": [
    "! cp -r drive/My\\ Drive/JobDescriptionPrediction/Resources/Templates .\n",
    "! cp drive/My\\ Drive/JobDescriptionPrediction/Resources/Model/* .\n",
    "!tar -xvf  'checkpoint_run1.tar' -C .\n",
    "!tar -xvf  'checkpoint_run2.tar' -C .\n",
    "!tar -xvf  'checkpoint_run3.tar' -C .\n"
   ]
  },
  {
   "cell_type": "code",
   "execution_count": null,
   "metadata": {
    "id": "xpQq3MjI9xUU"
   },
   "outputs": [],
   "source": [
    "class Item(BaseModel):\n",
    "    job_title: str\n",
    "templates = Jinja2Templates(directory='Templates/')\n",
    "app = FastAPI()\n",
    "app.mount(\"/Templates\", StaticFiles(directory=\"Templates\"), name=\"Templates\")"
   ]
  },
  {
   "cell_type": "code",
   "execution_count": null,
   "metadata": {
    "id": "gZz7rYZbH7Ks"
   },
   "outputs": [],
   "source": [
    "\n",
    "#On index.html, two buttons we will have on index.html. On each button click, a new html page will be loaded then and there only.\n",
    "#No api call required. Need home button on every page.\n",
    "@app.get(\"/\", response_class=HTMLResponse)\n",
    "async def read_root(request: Request):\n",
    "  return templates.TemplateResponse('index.html', context={'request':request})\n",
    "\n",
    "@app.get(\"/home\", response_class=HTMLResponse)\n",
    "async def read_root(request: Request):\n",
    "  return templates.TemplateResponse('index.html', context={'request':request})\n",
    "\n",
    "\n",
    "@app.get(\"/textgenerationpage\", response_class=HTMLResponse)\n",
    "async def read_root(request: Request):\n",
    "  return templates.TemplateResponse('textGeneration.html', context={'request':request})\n",
    "\n",
    "  \n",
    "@app.get(\"/datainsightsPage\", response_class=HTMLResponse)\n",
    "async def read_root(request: Request):\n",
    "  return templates.TemplateResponse('datainsights.html', context={'request':request})\n",
    "\n",
    "\n",
    "#Method to return PredictedJobDescription based on the inputs provided\n",
    "\n",
    "@app.get(\"/predictJobDescription\") \n",
    "async def predictJobDescription(request: Request, Input_Job_title : str,Input_Skills:str,Input_Company_name:str,Input_Location:str):\n",
    "  jobDescription = getModelOutputSingleInput(Input_Job_title,Input_Skills,Input_Company_name,Input_Location)\n",
    "  jobdescription = jobDescription.replace('\\n','<br>')\n",
    "  jobDescription = '<html><head><title>Predicted Job Description</title></head><body>'+'<h1>Predicted Job Description</h1><p>'+jobDescription+'</p></body></html>' \n",
    "  \n",
    "  return jobDescription\n",
    "\n",
    "@app.get(\"/evaluateModel\", response_class=HTMLResponse) \n",
    "async def evaluateModel(request: Request, index1 : str ,index2 :str):\n",
    "  df_row1 = getSimilarityMatrix(int(index1)) # this is a list output, needs to be added as  a row to df\n",
    "  df_row2 = getSimilarityMatrix(int(index2))\n",
    "  df_rows = [df_row1,df_row2]\n",
    "  df = pd.DataFrame(df_rows, columns = ['Job_Title', 'Skills','Company','Location','Expected Output', 'Model Output','Word_similarity', '2Gram Similarity','4Gram Similarity','6Gram Similarity','8Gram Similarity','10Gram Similarity','Random No',])\n",
    "  # add df_rows to df here\n",
    "  df_html = df.to_html(classes='table table-striped')\n",
    "  text = '<html><head><title>Cosine Similarity</title></head><body>'+'<h1>Similarity Matrix</h1>'+df_html+'</body></html>' \n",
    "  return text\n",
    "\n",
    "#PAGE 2 - DataInsights.html \n",
    "@app.get(\"/getDataInsights\", response_class=HTMLResponse)\n",
    "async def getDataInsights(request: Request, id : str):\n",
    "  print('got input :: ',id)\n",
    "  if ( id == '1'):\n",
    "    table = getSqlMethod1()\n",
    "  elif ( id == '2'):\n",
    "    table = getSqlMethod2()  \n",
    "  elif ( id == '3'):\n",
    "    table = getSqlMethod3()  \n",
    "  elif ( id == '4'):\n",
    "    table = getSqlMethod4() \n",
    "  elif ( id == '5'):\n",
    "    table = getSqlMethod5() \n",
    "  elif ( id == '6'):\n",
    "    table = getSqlMethod6()  \n",
    "  elif ( id == '7'):\n",
    "    table = getSqlMethod7()\n",
    "  elif ( id == '8'):\n",
    "    table = getSqlMethod8() \n",
    "  elif ( id == '9'):\n",
    "    table = getSqlMethod9() \n",
    "  else:\n",
    "    return '<html><head><title>Data Insights</title></head><body>'+'<h1>WRONG INPUT</h1>'+'</body></html>'   \n",
    "    \n",
    "  table = table.to_html(classes='table table-striped')\n",
    "  text = '<html><head><title>Data Insights</title></head><body>'+ table+'</body></html>'  \n",
    "  return text\n",
    "\n",
    "@app.post(\"/datscrapping\")\n",
    "async def details(item: Item):\n",
    "    item_dict = item.dict()\n",
    "    data = fetch_jobs(item_dict[\"job_title\"])\n",
    "    data = json.loads(data)\n",
    "    return {\"result\": data}\n"
   ]
  },
  {
   "cell_type": "code",
   "execution_count": null,
   "metadata": {
    "colab": {
     "base_uri": "https://localhost:8080/"
    },
    "executionInfo": {
     "elapsed": 9937,
     "status": "ok",
     "timestamp": 1618122888412,
     "user": {
      "displayName": "AKANKSHA NAGAR",
      "photoUrl": "",
      "userId": "14696667585464651672"
     },
     "user_tz": -330
    },
    "id": "WG1j-fCt4c-Y",
    "outputId": "ba8d516b-7c45-4ead-f6d3-2fb2fef528af"
   },
   "outputs": [],
   "source": [
    "cc.run_app(app=app)"
   ]
  }
 ],
 "metadata": {
  "colab": {
   "collapsed_sections": [],
   "name": "Task7_Api.ipynb",
   "provenance": [
    {
     "file_id": "14pV8Hq893lI_FpJFzKTPp_9g32UsbxIb",
     "timestamp": 1617986972446
    }
   ]
  },
  "kernelspec": {
   "display_name": "Python 3 (ipykernel)",
   "language": "python",
   "name": "python3"
  },
  "language_info": {
   "codemirror_mode": {
    "name": "ipython",
    "version": 3
   },
   "file_extension": ".py",
   "mimetype": "text/x-python",
   "name": "python",
   "nbconvert_exporter": "python",
   "pygments_lexer": "ipython3",
   "version": "3.9.12"
  }
 },
 "nbformat": 4,
 "nbformat_minor": 1
}
