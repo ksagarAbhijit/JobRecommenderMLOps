{
 "cells": [
  {
   "cell_type": "code",
   "execution_count": 8,
   "metadata": {
    "colab": {
     "base_uri": "https://localhost:8080/"
    },
    "executionInfo": {
     "elapsed": 4496,
     "status": "ok",
     "timestamp": 1618123191203,
     "user": {
      "displayName": "CHANDRIKA",
      "photoUrl": "",
      "userId": "13931345100314558168"
     },
     "user_tz": -330
    },
    "id": "IYWQoHeu2ku_",
    "outputId": "2c27609c-7cb6-4778-f73b-2ba518099b46"
   },
   "outputs": [
    {
     "name": "stdout",
     "output_type": "stream",
     "text": [
      "Drive already mounted at /content/drive; to attempt to forcibly remount, call drive.mount(\"/content/drive\", force_remount=True).\n",
      "Drive already mounted at /content/drive; to attempt to forcibly remount, call drive.mount(\"/content/drive\", force_remount=True).\n"
     ]
    }
   ],
   "source": [
    "%tensorflow_version 1.x\n",
    "!pip install -q gpt-2-simple\n",
    "import gpt_2_simple as gpt2\n",
    "from datetime import datetime\n",
    "from google.colab import files\n",
    "import pandas as pd\n",
    "import tensorflow as tf\n",
    "import nltk\n",
    "import regex as re\n",
    "\n",
    "from google.colab import drive\n",
    "drive.mount('/content/drive')\n",
    "gpt2.mount_gdrive()"
   ]
  },
  {
   "cell_type": "code",
   "execution_count": 9,
   "metadata": {
    "colab": {
     "base_uri": "https://localhost:8080/"
    },
    "executionInfo": {
     "elapsed": 39420,
     "status": "ok",
     "timestamp": 1618123226138,
     "user": {
      "displayName": "CHANDRIKA",
      "photoUrl": "",
      "userId": "13931345100314558168"
     },
     "user_tz": -330
    },
    "id": "Eu4M2KUQKjmp",
    "outputId": "624e1f55-85bc-4879-95ad-9accf15856f9"
   },
   "outputs": [
    {
     "name": "stdout",
     "output_type": "stream",
     "text": [
      "cp: -r not specified; omitting directory 'drive/My Drive/JobDescriptionPrediction/Resources/Model/T5-Aboutcompany'\n",
      "cp: -r not specified; omitting directory 'drive/My Drive/JobDescriptionPrediction/Resources/Model/T5-Role'\n",
      "cp: -r not specified; omitting directory 'drive/My Drive/JobDescriptionPrediction/Resources/Model/T5-Skill'\n",
      "checkpoint/run1/\n",
      "checkpoint/run1/checkpoint\n",
      "checkpoint/run1/counter\n",
      "checkpoint/run1/encoder.json\n",
      "checkpoint/run1/events.out.tfevents.1617255936.c51996cb59be\n",
      "checkpoint/run1/hparams.json\n",
      "checkpoint/run1/model-3337.data-00000-of-00001\n",
      "checkpoint/run1/model-3337.index\n",
      "checkpoint/run1/model-3337.meta\n",
      "checkpoint/run1/vocab.bpe\n",
      "checkpoint/run2/\n",
      "checkpoint/run2/checkpoint\n",
      "checkpoint/run2/counter\n",
      "checkpoint/run2/encoder.json\n",
      "checkpoint/run2/events.out.tfevents.1617285150.0c4597a381ce\n",
      "checkpoint/run2/hparams.json\n",
      "checkpoint/run2/model-1000.data-00000-of-00001\n",
      "checkpoint/run2/model-1000.index\n",
      "checkpoint/run2/model-1000.meta\n",
      "checkpoint/run2/vocab.bpe\n",
      "checkpoint/run3/\n",
      "checkpoint/run3/checkpoint\n",
      "checkpoint/run3/counter\n",
      "checkpoint/run3/encoder.json\n",
      "checkpoint/run3/events.out.tfevents.1617284719.bbfb068a22bb\n",
      "checkpoint/run3/hparams.json\n",
      "checkpoint/run3/model-1000.data-00000-of-00001\n",
      "checkpoint/run3/model-1000.index\n",
      "checkpoint/run3/model-1000.meta\n",
      "checkpoint/run3/vocab.bpe\n"
     ]
    }
   ],
   "source": [
    "! cp drive/My\\ Drive/JobDescriptionPrediction/Resources/Model/* .\n",
    "!tar -xvf  'checkpoint_run1.tar' -C .\n",
    "!tar -xvf  'checkpoint_run2.tar' -C .\n",
    "!tar -xvf  'checkpoint_run3.tar' -C .\n",
    "# gpt2.copy_checkpoint_from_gdrive(run_name=\"run1\")\n",
    "# gpt2.copy_checkpoint_from_gdrive(run_name=\"run2\")\n",
    "# gpt2.copy_checkpoint_from_gdrive(run_name=\"run3\")"
   ]
  },
  {
   "cell_type": "code",
   "execution_count": 10,
   "metadata": {
    "executionInfo": {
     "elapsed": 39418,
     "status": "ok",
     "timestamp": 1618123226138,
     "user": {
      "displayName": "CHANDRIKA",
      "photoUrl": "",
      "userId": "13931345100314558168"
     },
     "user_tz": -330
    },
    "id": "rwEDLujh_xC7"
   },
   "outputs": [],
   "source": [
    "def runModelSingleInput(run_name, input):\n",
    "  print( 'inside run_Model')\n",
    "  tf.reset_default_graph()\n",
    "  sess = gpt2.start_tf_sess()\n",
    "  gpt2.load_gpt2(sess, run_name=run_name)\n",
    "  print( run_name, ' :: Model loaded ')\n",
    "  output = predict(sess,run_name,input)\n",
    "  return output\n",
    "def runModelMultipleInputs(run_name, input):\n",
    "  print( 'inside run_Model')\n",
    "  tf.reset_default_graph()\n",
    "  sess = gpt2.start_tf_sess()\n",
    "  gpt2.load_gpt2(sess, run_name=run_name)\n",
    "  print( run_name, ' :: Model loaded ')\n",
    "  output= []\n",
    "  for i in input:\n",
    "    print('input i ::',i)\n",
    "    output.append(predict(run_name,i))\n",
    "  return output"
   ]
  },
  {
   "cell_type": "code",
   "execution_count": 11,
   "metadata": {
    "executionInfo": {
     "elapsed": 39417,
     "status": "ok",
     "timestamp": 1618123226139,
     "user": {
      "displayName": "CHANDRIKA",
      "photoUrl": "",
      "userId": "13931345100314558168"
     },
     "user_tz": -330
    },
    "id": "2CQt-t36Oe1c"
   },
   "outputs": [],
   "source": [
    "def predict(sess,run_name,input):\n",
    "  output = gpt2.generate(sess,\n",
    "                         run_name = run_name,\n",
    "                  prefix=input,\n",
    "                  length=100,\n",
    "                  temperature=0.7,\n",
    "                  nsamples=1,\n",
    "                  return_as_list=True\n",
    "                  )\n",
    "  output = output[0].replace(input,'')\n",
    "  output = output.replace('\\', \\'','')\n",
    "  output = output.replace('[\\'','')\n",
    "  output = output.replace('[','')\n",
    "  output = output.replace(']','')\n",
    "  output = output.replace('.,','.')\n",
    "  output = output.replace('\"','.')\n",
    "  output = re.sub('\\s+',' ',output)\n",
    "  output = re.sub('^,','',output)\n",
    "  print( run_name, ' :: Output generated ')\n",
    "  return output"
   ]
  },
  {
   "cell_type": "code",
   "execution_count": 12,
   "metadata": {
    "executionInfo": {
     "elapsed": 39415,
     "status": "ok",
     "timestamp": 1618123226139,
     "user": {
      "displayName": "CHANDRIKA",
      "photoUrl": "",
      "userId": "13931345100314558168"
     },
     "user_tz": -330
    },
    "id": "UeTxsdtEMScv"
   },
   "outputs": [],
   "source": [
    "def getModelOutputSingleInput(Input_Job_title,Input_Skills,Input_Company_name,Input_Location):\n",
    "  text_skills = runModelSingleInput('run1',Input_Job_title+ ' '+Input_Skills)\n",
    "  \n",
    "  text_role = runModelSingleInput('run2',Input_Job_title+ ' '+Input_Skills)\n",
    "  \n",
    "  text_aboutCompany = runModelSingleInput('run3',Input_Company_name +' '+Input_Location)\n",
    "  \n",
    "  output = 'SKILLS'+'\\n'+text_skills + '\\n\\n'+ 'ROLES'+'\\n'+text_role+ '\\n\\n'+ 'ABOUT COMPANY'+'\\n'+text_aboutCompany\n",
    "  return output"
   ]
  },
  {
   "cell_type": "code",
   "execution_count": 13,
   "metadata": {
    "executionInfo": {
     "elapsed": 39414,
     "status": "ok",
     "timestamp": 1618123226140,
     "user": {
      "displayName": "CHANDRIKA",
      "photoUrl": "",
      "userId": "13931345100314558168"
     },
     "user_tz": -330
    },
    "id": "RiX3DQh0NgiU"
   },
   "outputs": [],
   "source": [
    "def getModelOutputMultipleInputs(Input_Job_title,Input_Skills,Input_Company_name,Input_Location):\n",
    "\n",
    "  text_skills = runModelMultipleInputs('run1',Input_Job_title+ ' '+Input_Skills)\n",
    "  \n",
    "  text_role = runModelMultipleInputs('run2',Input_Job_title+ ' '+Input_Skills)\n",
    "  \n",
    "  text_aboutCompany = runModelMultipleInputs('run3',Input_Company_name +' '+Input_Location)\n",
    "  \n",
    "  output = 'SKILLS'+'\\n'+text_skills + '\\n\\n'+ 'ROLES'+'\\n'+text_role+ '\\n\\n'+ 'ABOUT COMPANY'+'\\n'+text_aboutCompany\n",
    "  return output"
   ]
  },
  {
   "cell_type": "code",
   "execution_count": 14,
   "metadata": {
    "colab": {
     "base_uri": "https://localhost:8080/"
    },
    "executionInfo": {
     "elapsed": 90080,
     "status": "ok",
     "timestamp": 1618123276811,
     "user": {
      "displayName": "CHANDRIKA",
      "photoUrl": "",
      "userId": "13931345100314558168"
     },
     "user_tz": -330
    },
    "id": "3ueiehU84E0Z",
    "outputId": "c907ce88-2968-4353-b63b-ecfaf165437a"
   },
   "outputs": [
    {
     "name": "stdout",
     "output_type": "stream",
     "text": [
      "inside run_Model\n",
      "Loading checkpoint checkpoint/run1/model-3337\n",
      "INFO:tensorflow:Restoring parameters from checkpoint/run1/model-3337\n",
      "run1  :: Model loaded \n",
      "run1  :: Output generated \n",
      "inside run_Model\n",
      "Loading checkpoint checkpoint/run2/model-1000\n",
      "INFO:tensorflow:Restoring parameters from checkpoint/run2/model-1000\n",
      "run2  :: Model loaded \n",
      "run2  :: Output generated \n",
      "inside run_Model\n",
      "Loading checkpoint checkpoint/run3/model-1000\n",
      "INFO:tensorflow:Restoring parameters from checkpoint/run3/model-1000\n",
      "run3  :: Model loaded \n",
      "run3  :: Output generated \n",
      "SKILLS\n",
      " design, validate, implement, and perform predictive analysis and data mining on a wide variety of datasets work closely with product managers to discover and build dashboards and scoredigest meaningful insights identify meaningful insights that add up to reward growth develop metrics and kpis to track student performance vs. forecast forecast abuse create dashboards and reports to continuously analyze critical metrics and product kpis train and develop other analysts and data scientists to understand\n",
      "\n",
      "ROLES\n",
      " the role will be responsible for researching, designing, implementing and assessing longitudinal datasets to help the company understand its employee health care environment and improve insurance company profitability.the analyst will be a key partner in analyzing data to help design and implement new insurance programs. primary responsibilities , analyze and interpret data to provide insight and recommendations to product owners and product development teams to drive better product execution design and implement new product experiments work closely with analysts and product managers to\n",
      "\n",
      "ABOUT COMPANY\n",
      "As, project execution plans , you will:, be responsible for helping drive a paradigm shift in the nature of our technology.our first priority is making your day at work share.work with us in multiple capacity to deliver essential services to our clients.our team members are highly self-motivated, comfortable conceiving strategies on the fly, and enjoy working both individually and as part of a team.your success will be measured by the ability to deliver on our\n"
     ]
    }
   ],
   "source": [
    "# API inputs\n",
    "Input_Job_title = 'data scientist'\n",
    "Input_Skills = 'sap sql'\n",
    "Input_Company_name = 'express scripts'\n",
    "Input_Location = 'MO'\n",
    "\n",
    "#API to cALL this method, getMOdelOutputs\n",
    "\n",
    "output  = getModelOutputSingleInput(Input_Job_title,Input_Skills,Input_Company_name,Input_Location)\n",
    "\n",
    "# API OUTPUT \n",
    "print(output)"
   ]
  },
  {
   "cell_type": "markdown",
   "metadata": {},
   "source": [
    "# MLFLOW"
   ]
  },
  {
   "cell_type": "code",
   "execution_count": 10,
   "metadata": {},
   "outputs": [],
   "source": [
    "import os\n",
    "\n",
    "# Set username and password when authentication was added\n",
    "os.environ['MLFLOW_TRACKING_USERNAME'] = \"svc_mlops_usr\"\n",
    "os.environ['MLFLOW_TRACKING_PASSWORD'] = \"fF9YwHUIHUhMimV\""
   ]
  },
  {
   "cell_type": "code",
   "execution_count": 26,
   "metadata": {},
   "outputs": [],
   "source": [
    "\n",
    "\n",
    "# MLFLOW_TRACKING_USERNAME: str = \"svc_mlops_usr\"\n",
    "#     MLFLOW_TRACKING_PASSWORD: str = \"fF9YwHUIHUhMimV\"\n",
    "os.environ['AZURE_STORAGE_CONNECTION_STRING'] = \"DefaultEndpointsProtocol=https;AccountName=deepaimltracking;AccountKey=PBE/deO1w3+ve2776dBgtsUn619aK+iS7GckPqzsPM0pCrqp8e0fdSRWmDAWEw0GSJMLIZJHZJqp+AStWrl6Dw==;EndpointSuffix=core.windows.net\"\n",
    "os.environ[' AZURE_ACCESS_KEY']= 'PBE/deO1w3+ve2776dBgtsUn619aK+iS7GckPqzsPM0pCrqp8e0fdSRWmDAWEw0GSJMLIZJHZJqp+AStWrl6Dw=='\n"
   ]
  },
  {
   "cell_type": "code",
   "execution_count": null,
   "metadata": {
    "scrolled": true
   },
   "outputs": [],
   "source": [
    "import mlflow\n",
    "mlflow.set_tracking_uri(\"http://mltracking.deepailytics.com/\")\n",
    "# Set an experiment name, which must be unique and case-sensitive.\n",
    "experiment = mlflow.set_experiment(experiment_name=\"job-desc-generator\")"
   ]
  },
  {
   "cell_type": "code",
   "execution_count": null,
   "metadata": {},
   "outputs": [],
   "source": [
    "mlflow.get_experiment(experiment_id=7)"
   ]
  },
  {
   "cell_type": "code",
   "execution_count": null,
   "metadata": {},
   "outputs": [],
   "source": [
    "mlflow.log_artifacts(local_dir='/home/deepak/projects/deepailytics/job_desc_gpt/Job_description_recommendation/runtime/service/app/services/checkpoint',artifact_path=\"models/run1\")"
   ]
  },
  {
   "cell_type": "code",
   "execution_count": null,
   "metadata": {},
   "outputs": [],
   "source": []
  },
  {
   "cell_type": "code",
   "execution_count": null,
   "metadata": {},
   "outputs": [],
   "source": []
  },
  {
   "cell_type": "code",
   "execution_count": null,
   "metadata": {},
   "outputs": [],
   "source": []
  }
 ],
 "metadata": {
  "colab": {
   "collapsed_sections": [],
   "name": "Task5_ModelOutputGenerator.ipynb",
   "provenance": []
  },
  "kernelspec": {
   "display_name": "Python 3 (ipykernel)",
   "language": "python",
   "name": "python3"
  },
  "language_info": {
   "codemirror_mode": {
    "name": "ipython",
    "version": 3
   },
   "file_extension": ".py",
   "mimetype": "text/x-python",
   "name": "python",
   "nbconvert_exporter": "python",
   "pygments_lexer": "ipython3",
   "version": "3.7.13"
  }
 },
 "nbformat": 4,
 "nbformat_minor": 1
}
